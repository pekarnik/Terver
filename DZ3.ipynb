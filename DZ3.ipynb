{
 "cells": [
  {
   "cell_type": "markdown",
   "id": "0e08b1bd",
   "metadata": {},
   "source": [
    "Задача 1\n",
    "Даны значения зарплат из выборки выпускников:\n",
    "100, 80, 75, 77, 89, 33, 45, 25, 65, 17, 30, 230, 24, 57, 55, 70, 75, 65, 84, 90, 150\n",
    " \n",
    "Используя только встроенные питоновские функции и структуры данных (т.е. без библиотек numpy, pandas и др.), посчитайте (несмещённое) среднее квадратичное отклонение для данной выборки."
   ]
  },
  {
   "cell_type": "code",
   "execution_count": 4,
   "id": "77626443",
   "metadata": {},
   "outputs": [
    {
     "name": "stdout",
     "output_type": "stream",
     "text": [
      "Ответ: несмещённое среднее квадратичное отклонение равно 47.34795213553139\n"
     ]
    }
   ],
   "source": [
    "import math\n",
    "\n",
    "wages = [100, 80, 75, 77, 89, 33, 45, 25, 65, 17, 30, 230, 24, 57, 55, 70, 75, 65, 84, 90, 150]\n",
    "n = len(wages) # количество элементов выборки\n",
    "k = 1/(n-1) # коэффициент перед суммой\n",
    "X = sum(wages)/n # выборочное среднее \n",
    "sigma = math.sqrt(sum([(x-X)**2 for x in wages])*k) # среднее квадратичное отклонение\n",
    "\n",
    "print(f\"Ответ: несмещённое среднее квадратичное отклонение равно {sigma}\")"
   ]
  },
  {
   "cell_type": "markdown",
   "id": "d96b0f60",
   "metadata": {},
   "source": [
    "Задача 2\n",
    "Найдите число выбросов в выборке из задачи 1. Для определения выбросов используйте методику как при построении “усов” в boxplot, однако, как и в задаче 1, пользоваться можно только встроенными функциями и структурами данных."
   ]
  },
  {
   "cell_type": "code",
   "execution_count": 5,
   "id": "54d0266e",
   "metadata": {},
   "outputs": [
    {
     "name": "stdout",
     "output_type": "stream",
     "text": [
      "Отсортированный по возрастанию список зарплат:\n",
      "[17, 24, 25, 30, 33, 45, 55, 57, 65, 65, 70, 75, 75, 77, 80, 84, 89, 90, 100, 150, 230]\n",
      "первый квартиль: 45\n",
      "второй квартиль: 70\n",
      "третий квартиль:84\n",
      "интерквартильный размах: 39\n",
      "Сверял с pandas: df.quantile(0.25), df.quantile(0.50), df.quantile(0.75)\n",
      "\n",
      "Ответ: количество выбросов: 2\n"
     ]
    }
   ],
   "source": [
    "wages = [100, 80, 75, 77, 89, 33, 45, 25, 65, 17, 30, 230, 24, 57, 55, 70, 75, 65, 84, 90, 150]\n",
    "wages.sort()\n",
    "print(\"Отсортированный по возрастанию список зарплат:\")\n",
    "print(wages)\n",
    "length = len(wages)\n",
    "\n",
    "# медиана - это 2q квартиль. найдём для нечётной выборки\n",
    "median_index = length // 2\n",
    "Q2 = wages[median_index]\n",
    "\n",
    "# найдём 1й квартиль - посередине слева от медианы\n",
    "i = (length // 4)\n",
    "Q1 = wages[i]\n",
    "\n",
    "#найдём третий квартить\n",
    "i = (length // 4)*3\n",
    "Q3 = wages[i]\n",
    "\n",
    "IQR = Q3 - Q1\n",
    "\n",
    "print(f\"первый квартиль: {Q1}\\nвторой квартиль: {Q2}\\nтретий квартиль:{Q3}\\nинтерквартильный размах: {IQR}\")\n",
    "print(\"Сверял с pandas: df.quantile(0.25), df.quantile(0.50), df.quantile(0.75)\")\n",
    "\n",
    "# левый \"ус\"\n",
    "L = Q1 - 1.5*IQR\n",
    "# правый \"ус\"\n",
    "R = Q3 + 1.5*IQR\n",
    "\n",
    "L_len = len(list(filter(lambda x: x < L, wages)))\n",
    "R_len = len(list(filter(lambda x: x > R, wages)))\n",
    "print(f\"\\nОтвет: количество выбросов: {L_len + R_len}\")"
   ]
  },
  {
   "cell_type": "markdown",
   "id": "abe911d6",
   "metadata": {},
   "source": [
    "Задача 3\n",
    "\n",
    "В университет на факультет A поступило 100 человек, на факультет B - 90 человек и на факультет C - 45 человек. Вероятность того, что студент с факультета A сдаст первую сессию, равна 0.6. Для студента с факультета B эта вероятность равна 0.7, а для студента с факультета C - 0.8. Случайным образом выбирается студент, сдавший первую сессию. Какое событие наиболее вероятно:\n",
    "\n",
    "студент учится на факультете A,\n",
    "\n",
    "студент учится на факультете B,\n",
    "\n",
    "студент учится на факультете C?\n",
    "\n",
    "Замечание: да, эта задача не на тему статистики, но тема важная, и её стоит иногда освежать в памяти."
   ]
  },
  {
   "cell_type": "code",
   "execution_count": 6,
   "id": "04e8469c",
   "metadata": {},
   "outputs": [],
   "source": [
    "A = 100\n",
    "B = 90\n",
    "C = 45\n",
    "total = A + B + C\n",
    "p_A = A / total\n",
    "p_B = B / total\n",
    "p_C = C / total"
   ]
  },
  {
   "cell_type": "code",
   "execution_count": 7,
   "id": "02ad8a1c",
   "metadata": {},
   "outputs": [],
   "source": [
    "PA = 0.6\n",
    "PB = 0.7\n",
    "PC = 0.8"
   ]
  },
  {
   "cell_type": "code",
   "execution_count": 8,
   "id": "1954c705",
   "metadata": {},
   "outputs": [
    {
     "data": {
      "text/plain": [
       "0.676595744680851"
      ]
     },
     "execution_count": 8,
     "metadata": {},
     "output_type": "execute_result"
    }
   ],
   "source": [
    "# по формуле полной вероятности\n",
    "PS = PA * p_A + PB * p_B + PC * p_C\n",
    "PS"
   ]
  },
  {
   "cell_type": "code",
   "execution_count": 9,
   "id": "703b04e5",
   "metadata": {},
   "outputs": [
    {
     "data": {
      "text/plain": [
       "(0.3773584905660377, 0.39622641509433965, 0.22641509433962265)"
      ]
     },
     "execution_count": 9,
     "metadata": {},
     "output_type": "execute_result"
    }
   ],
   "source": [
    "# по формуле Байеса\n",
    "P_AS = PA * p_A / PS\n",
    "P_BS = PB * p_B / PS\n",
    "P_CS = PC * p_C / PS\n",
    "\n",
    "P_AS, P_BS, P_CS"
   ]
  },
  {
   "cell_type": "markdown",
   "id": "2e92f68e",
   "metadata": {},
   "source": [
    "Ответ: скорее всего студент учится на факультете B"
   ]
  },
  {
   "cell_type": "code",
   "execution_count": null,
   "id": "28b1c7cd",
   "metadata": {},
   "outputs": [],
   "source": []
  }
 ],
 "metadata": {
  "kernelspec": {
   "display_name": "Python 3",
   "language": "python",
   "name": "python3"
  },
  "language_info": {
   "codemirror_mode": {
    "name": "ipython",
    "version": 3
   },
   "file_extension": ".py",
   "mimetype": "text/x-python",
   "name": "python",
   "nbconvert_exporter": "python",
   "pygments_lexer": "ipython3",
   "version": "3.7.1rc1"
  }
 },
 "nbformat": 4,
 "nbformat_minor": 5
}
