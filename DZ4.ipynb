{
 "cells": [
  {
   "cell_type": "markdown",
   "id": "a3f6f423",
   "metadata": {},
   "source": [
    "\n",
    "1. Случайная непрерывная величина A имеет равномерное распределение на промежутке (200, 800].\n",
    "Найдите ее среднее значение и дисперсию.\n"
   ]
  },
  {
   "cell_type": "code",
   "execution_count": 24,
   "id": "530162e7",
   "metadata": {},
   "outputs": [],
   "source": [
    "import scipy.stats  as st"
   ]
  },
  {
   "cell_type": "code",
   "execution_count": 4,
   "id": "61cee8a0",
   "metadata": {},
   "outputs": [],
   "source": [
    "M=(200+800)/2\n",
    "D=(800-200)**2/12"
   ]
  },
  {
   "cell_type": "code",
   "execution_count": 5,
   "id": "c8ff6a4b",
   "metadata": {},
   "outputs": [
    {
     "data": {
      "text/plain": [
       "(500.0, 30000.0)"
      ]
     },
     "execution_count": 5,
     "metadata": {},
     "output_type": "execute_result"
    }
   ],
   "source": [
    "M, D"
   ]
  },
  {
   "cell_type": "markdown",
   "id": "70f46b82",
   "metadata": {},
   "source": [
    "2. О случайной непрерывной равномерно распределенной величине B известно, что ее дисперсия равна 0.2.\n",
    "Можно ли найти правую границу величины B и ее среднее значение зная, что левая граница равна 0.5?\n",
    "Если да, найдите ее.\n"
   ]
  },
  {
   "cell_type": "code",
   "execution_count": 7,
   "id": "caabb16d",
   "metadata": {},
   "outputs": [],
   "source": [
    "D=0.2\n",
    "lb=0.5"
   ]
  },
  {
   "cell_type": "code",
   "execution_count": 8,
   "id": "0748acfb",
   "metadata": {},
   "outputs": [],
   "source": [
    "rb=lb-(12*D)**0.5"
   ]
  },
  {
   "cell_type": "code",
   "execution_count": 9,
   "id": "8a7d9d21",
   "metadata": {},
   "outputs": [
    {
     "data": {
      "text/plain": [
       "-1.0491933384829668"
      ]
     },
     "execution_count": 9,
     "metadata": {},
     "output_type": "execute_result"
    }
   ],
   "source": [
    "rb"
   ]
  },
  {
   "cell_type": "code",
   "execution_count": 10,
   "id": "2db996a7",
   "metadata": {},
   "outputs": [],
   "source": [
    "M=(lb+rb)/2"
   ]
  },
  {
   "cell_type": "code",
   "execution_count": 11,
   "id": "6c5f3baf",
   "metadata": {},
   "outputs": [
    {
     "data": {
      "text/plain": [
       "-0.2745966692414834"
      ]
     },
     "execution_count": 11,
     "metadata": {},
     "output_type": "execute_result"
    }
   ],
   "source": [
    "M"
   ]
  },
  {
   "cell_type": "markdown",
   "id": "0bef5d4b",
   "metadata": {},
   "source": [
    "3. Непрерывная случайная величина X распределена нормально и задана плотностью распределения\n",
    "f(x) = (1 / (4 * sqrt(2*pi))) * (exp(-(x+2)**2) / 32).\n",
    "Найдите:\n",
    "а). M(X)\n",
    "б). D(X)\n",
    "в). std(X) (среднее квадратичное отклонение)\n"
   ]
  },
  {
   "cell_type": "code",
   "execution_count": 19,
   "id": "c17ff012",
   "metadata": {},
   "outputs": [],
   "source": [
    "M=-2\n",
    "D=16\n",
    "std=D**0.5"
   ]
  },
  {
   "cell_type": "code",
   "execution_count": 20,
   "id": "5c6b02ec",
   "metadata": {},
   "outputs": [
    {
     "data": {
      "text/plain": [
       "(-2, 16, 4.0)"
      ]
     },
     "execution_count": 20,
     "metadata": {},
     "output_type": "execute_result"
    }
   ],
   "source": [
    "M,D,std"
   ]
  },
  {
   "cell_type": "markdown",
   "id": "0be0a1e7",
   "metadata": {},
   "source": [
    "4. Рост взрослого населения города X имеет нормальное распределение.\n",
    "Причем, средний рост равен 174 см, а среднее квадратичное отклонение равно 8 см.\n",
    "Какова вероятность того, что случайным образом выбранный взрослый человек имеет рост:\n",
    "а). больше 182 см\n",
    "б). больше 190 см\n",
    "в). от 166 см до 190 см\n",
    "г). от 166 см до 182 см\n",
    "д). от 158 см до 190 см\n",
    "е). не выше 150 см или не ниже 190 см\n",
    "ё). не выше 150 см или не ниже 198 см\n",
    "ж). ниже 166 см.\n"
   ]
  },
  {
   "cell_type": "code",
   "execution_count": 26,
   "id": "eb7c782d",
   "metadata": {},
   "outputs": [
    {
     "data": {
      "text/plain": [
       "<scipy.stats._continuous_distns.norm_gen at 0x28c3d291550>"
      ]
     },
     "execution_count": 26,
     "metadata": {},
     "output_type": "execute_result"
    }
   ],
   "source": [
    "st.norm"
   ]
  },
  {
   "cell_type": "code",
   "execution_count": 27,
   "id": "bbc76429",
   "metadata": {},
   "outputs": [],
   "source": [
    "m=174\n",
    "std=8\n"
   ]
  },
  {
   "cell_type": "code",
   "execution_count": 32,
   "id": "b267f2fd",
   "metadata": {},
   "outputs": [],
   "source": [
    "more_than_182=1-st.norm.cdf(182,m,std)"
   ]
  },
  {
   "cell_type": "code",
   "execution_count": 33,
   "id": "c53f65d6",
   "metadata": {},
   "outputs": [
    {
     "data": {
      "text/plain": [
       "0.15865525393145707"
      ]
     },
     "execution_count": 33,
     "metadata": {},
     "output_type": "execute_result"
    }
   ],
   "source": [
    "more_than_182"
   ]
  },
  {
   "cell_type": "code",
   "execution_count": 34,
   "id": "7c7fddb3",
   "metadata": {},
   "outputs": [],
   "source": [
    "more_than_190=1-st.norm.cdf(190,m,std)"
   ]
  },
  {
   "cell_type": "code",
   "execution_count": 35,
   "id": "213f0477",
   "metadata": {},
   "outputs": [
    {
     "data": {
      "text/plain": [
       "0.02275013194817921"
      ]
     },
     "execution_count": 35,
     "metadata": {},
     "output_type": "execute_result"
    }
   ],
   "source": [
    "more_than_190"
   ]
  },
  {
   "cell_type": "code",
   "execution_count": 39,
   "id": "222d8488",
   "metadata": {},
   "outputs": [],
   "source": [
    "between_166_190=st.norm.cdf(190,m,std)-st.norm.cdf(160,m,std)"
   ]
  },
  {
   "cell_type": "code",
   "execution_count": 40,
   "id": "6dac32a1",
   "metadata": {},
   "outputs": [
    {
     "data": {
      "text/plain": [
       "0.9371907111880037"
      ]
     },
     "execution_count": 40,
     "metadata": {},
     "output_type": "execute_result"
    }
   ],
   "source": [
    "between_166_190"
   ]
  },
  {
   "cell_type": "code",
   "execution_count": 41,
   "id": "98015636",
   "metadata": {},
   "outputs": [],
   "source": [
    "between_166_182=st.norm.cdf(182,m,std)-st.norm.cdf(160,m,std)"
   ]
  },
  {
   "cell_type": "code",
   "execution_count": 42,
   "id": "8ed74da2",
   "metadata": {},
   "outputs": [
    {
     "data": {
      "text/plain": [
       "0.8012855892047258"
      ]
     },
     "execution_count": 42,
     "metadata": {},
     "output_type": "execute_result"
    }
   ],
   "source": [
    "between_166_182"
   ]
  },
  {
   "cell_type": "code",
   "execution_count": 43,
   "id": "d6105f2e",
   "metadata": {},
   "outputs": [],
   "source": [
    "between_158_190=st.norm.cdf(190,m,std)-st.norm.cdf(158,m,std)"
   ]
  },
  {
   "cell_type": "code",
   "execution_count": 44,
   "id": "9ec560c4",
   "metadata": {},
   "outputs": [
    {
     "data": {
      "text/plain": [
       "0.9544997361036416"
      ]
     },
     "execution_count": 44,
     "metadata": {},
     "output_type": "execute_result"
    }
   ],
   "source": [
    "between_158_190"
   ]
  },
  {
   "cell_type": "code",
   "execution_count": 46,
   "id": "9c1b69b5",
   "metadata": {},
   "outputs": [],
   "source": [
    "less_150_more_190=1-(st.norm.cdf(190,m,std)-st.norm.cdf(150,m,std))"
   ]
  },
  {
   "cell_type": "code",
   "execution_count": 47,
   "id": "b0b1f0bc",
   "metadata": {},
   "outputs": [
    {
     "data": {
      "text/plain": [
       "0.024100029979809312"
      ]
     },
     "execution_count": 47,
     "metadata": {},
     "output_type": "execute_result"
    }
   ],
   "source": [
    "less_150_more_190"
   ]
  },
  {
   "cell_type": "code",
   "execution_count": 49,
   "id": "b363c360",
   "metadata": {},
   "outputs": [],
   "source": [
    "less_150_more_198=1-(st.norm.cdf(198,m,std)-st.norm.cdf(150,m,std))"
   ]
  },
  {
   "cell_type": "code",
   "execution_count": 50,
   "id": "852fd9a0",
   "metadata": {},
   "outputs": [
    {
     "data": {
      "text/plain": [
       "0.002699796063260207"
      ]
     },
     "execution_count": 50,
     "metadata": {},
     "output_type": "execute_result"
    }
   ],
   "source": [
    "less_150_more_198"
   ]
  },
  {
   "cell_type": "code",
   "execution_count": 51,
   "id": "f7b39676",
   "metadata": {},
   "outputs": [],
   "source": [
    "less_166=st.norm.cdf(166,m,std)"
   ]
  },
  {
   "cell_type": "code",
   "execution_count": 52,
   "id": "7b9e27b0",
   "metadata": {},
   "outputs": [
    {
     "data": {
      "text/plain": [
       "0.15865525393145707"
      ]
     },
     "execution_count": 52,
     "metadata": {},
     "output_type": "execute_result"
    }
   ],
   "source": [
    "less_166"
   ]
  },
  {
   "cell_type": "markdown",
   "id": "0ba630a5",
   "metadata": {},
   "source": [
    "5. На сколько сигм (средних квадратичных отклонений) отклоняется рост человека, равный 190 см, от\n",
    "математического ожидания роста в популяции, в которой M(X) = 178 см и D(X) = 25 кв.см?\n"
   ]
  },
  {
   "cell_type": "markdown",
   "id": "214b127a",
   "metadata": {},
   "source": [
    "Примем в соответсвии с предыдущей задачей что закон распределения нормальный"
   ]
  },
  {
   "cell_type": "code",
   "execution_count": 53,
   "id": "e77cb398",
   "metadata": {},
   "outputs": [],
   "source": [
    "sigma=5\n",
    "delta=190-178\n",
    "kolich_sigm=delta/sigma"
   ]
  },
  {
   "cell_type": "code",
   "execution_count": 54,
   "id": "eb89345b",
   "metadata": {},
   "outputs": [
    {
     "data": {
      "text/plain": [
       "2.4"
      ]
     },
     "execution_count": 54,
     "metadata": {},
     "output_type": "execute_result"
    }
   ],
   "source": [
    "kolich_sigm"
   ]
  },
  {
   "cell_type": "code",
   "execution_count": null,
   "id": "8513475d",
   "metadata": {},
   "outputs": [],
   "source": []
  }
 ],
 "metadata": {
  "kernelspec": {
   "display_name": "Python 3 (ipykernel)",
   "language": "python",
   "name": "python3"
  },
  "language_info": {
   "codemirror_mode": {
    "name": "ipython",
    "version": 3
   },
   "file_extension": ".py",
   "mimetype": "text/x-python",
   "name": "python",
   "nbconvert_exporter": "python",
   "pygments_lexer": "ipython3",
   "version": "3.9.7"
  }
 },
 "nbformat": 4,
 "nbformat_minor": 5
}