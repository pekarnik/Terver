{
  "cells": [
    {
      "cell_type": "markdown",
      "metadata": {
        "id": "YceSMNu9VUyX"
      },
      "source": [
        "**Проверка статистических гипотез. P-значения. Доверительные интервалы**"
      ]
    },
    {
      "cell_type": "markdown",
      "metadata": {
        "id": "DHIpEKE6VUye"
      },
      "source": [
        "Домашнее задание\n",
        "\n",
        "В поле ответа впишите одно число. Нецелые числа следует округлить до 8 знаков после запятой."
      ]
    },
    {
      "cell_type": "markdown",
      "source": [
        "**Задача 1**\n",
        "\n",
        "Известно, что генеральная совокупность распределена нормально с известным средним квадратическим отклонением 16.\n",
        "Найти ширину доверительного интервала для оценки математического ожидания mu с надёжностью 0.95, если выборочное среднее равно 80, а объём выборки равен 256."
      ],
      "metadata": {
        "id": "n4t1wMCyVgpI"
      }
    },
    {
      "cell_type": "code",
      "execution_count": 1,
      "metadata": {
        "id": "XAzTW2ugVUyi"
      },
      "outputs": [],
      "source": [
        "from scipy import stats"
      ]
    },
    {
      "cell_type": "code",
      "execution_count": 2,
      "metadata": {
        "id": "HALIpF_AVUyk"
      },
      "outputs": [],
      "source": [
        "std = 16   #среднее квадратичное отклонение"
      ]
    },
    {
      "cell_type": "code",
      "execution_count": 3,
      "metadata": {
        "id": "a22iynylVUyl"
      },
      "outputs": [],
      "source": [
        "p = 0.95   #доверительная вероятность"
      ]
    },
    {
      "cell_type": "code",
      "execution_count": 4,
      "metadata": {
        "id": "iAGeKHSFVUym"
      },
      "outputs": [],
      "source": [
        "Xm = 80   #выборочное среднее"
      ]
    },
    {
      "cell_type": "code",
      "execution_count": 5,
      "metadata": {
        "id": "LJGj24xOVUyn"
      },
      "outputs": [],
      "source": [
        "n = 256   #объём выборки"
      ]
    },
    {
      "cell_type": "code",
      "execution_count": 6,
      "metadata": {
        "colab": {
          "base_uri": "https://localhost:8080/"
        },
        "id": "qsQTv7yHVUyo",
        "outputId": "1b09c717-6000-4337-9565-d3be8de0988b"
      },
      "outputs": [
        {
          "output_type": "execute_result",
          "data": {
            "text/plain": [
              "0.050000000000000044"
            ]
          },
          "metadata": {},
          "execution_count": 6
        }
      ],
      "source": [
        "alpha = 1 - p\n",
        "alpha   #уровень значимости"
      ]
    },
    {
      "cell_type": "code",
      "execution_count": 7,
      "metadata": {
        "colab": {
          "base_uri": "https://localhost:8080/"
        },
        "id": "Cz5h7656VUyr",
        "outputId": "3fe67fbe-e8cf-47c9-fb4c-dfe3671cd47b"
      },
      "outputs": [
        {
          "output_type": "execute_result",
          "data": {
            "text/plain": [
              "(-1.959963984540054, 1.959963984540054)"
            ]
          },
          "metadata": {},
          "execution_count": 7
        }
      ],
      "source": [
        "t1 = stats.norm.ppf(alpha/2)\n",
        "t2 = stats.norm.ppf(1 - alpha/2)\n",
        "t1, t2"
      ]
    },
    {
      "cell_type": "code",
      "execution_count": 8,
      "metadata": {
        "colab": {
          "base_uri": "https://localhost:8080/"
        },
        "id": "2RPmVYLOVUys",
        "outputId": "97794704-8df8-46dc-bc3f-e6e9e6c5f47c"
      },
      "outputs": [
        {
          "output_type": "execute_result",
          "data": {
            "text/plain": [
              "(78.04003601545995, 81.95996398454005)"
            ]
          },
          "metadata": {},
          "execution_count": 8
        }
      ],
      "source": [
        "conf_interval = (Xm + t1 * std / (n ** (1 / 2)), Xm + t2 * std / (n ** (1 / 2)))\n",
        "conf_interval   # доверительный интервал"
      ]
    },
    {
      "cell_type": "code",
      "execution_count": 9,
      "metadata": {
        "colab": {
          "base_uri": "https://localhost:8080/",
          "height": 35
        },
        "id": "8bPxW4g6VUyt",
        "outputId": "f88220f9-4d5b-4c96-ff81-98033ff7745a"
      },
      "outputs": [
        {
          "output_type": "execute_result",
          "data": {
            "application/vnd.google.colaboratory.intrinsic+json": {
              "type": "string"
            },
            "text/plain": [
              "'Ответ: ширина доверительного интервала: 3.91992797'"
            ]
          },
          "metadata": {},
          "execution_count": 9
        }
      ],
      "source": [
        "left, right = conf_interval\n",
        "f\"Ответ: ширина доверительного интервала: {round(right - left, 8)}\""
      ]
    },
    {
      "cell_type": "markdown",
      "metadata": {
        "id": "2YjRS6beVUyt"
      },
      "source": [
        "**Задача 2**\n",
        "\n",
        "Продавец утверждает, что средний вес пачки печенья составляет 200 г. Из партии извлечена выборка из 10 пачек. Вес каждой пачки составляет:\n",
        "\n",
        "202, 203, 199, 197, 195, 201, 200, 204, 194, 190\n",
        "\n",
        "Известно, что их веса распределены нормально. Верно ли утверждение продавца, если учитывать, что уровень значимости равен 1%?\n",
        "\n",
        "Найдите P-значение для данного теста и укажите его в качестве ответа."
      ]
    },
    {
      "cell_type": "code",
      "execution_count": 10,
      "metadata": {
        "id": "3d901D4SVUyu"
      },
      "outputs": [],
      "source": [
        "import numpy as np"
      ]
    },
    {
      "cell_type": "code",
      "execution_count": 11,
      "metadata": {
        "id": "fZCAJD6GVUyv"
      },
      "outputs": [],
      "source": [
        "samples = np.array([202, 203, 199, 197, 195, 201, 200, 204, 194, 190])"
      ]
    },
    {
      "cell_type": "code",
      "execution_count": 12,
      "metadata": {
        "id": "GlE3TA8wVUyv"
      },
      "outputs": [],
      "source": [
        "n = 10   #размер выборки"
      ]
    },
    {
      "cell_type": "code",
      "execution_count": 13,
      "metadata": {
        "id": "PgJlrOFEVUyw"
      },
      "outputs": [],
      "source": [
        "M = 200   #утверждаемое нулевой гипотезой математическое ожидание"
      ]
    },
    {
      "cell_type": "code",
      "execution_count": 14,
      "metadata": {
        "colab": {
          "base_uri": "https://localhost:8080/"
        },
        "id": "5P9IIvxLVUyw",
        "outputId": "21e760d4-24cb-4c79-89db-9b7252aaf15a"
      },
      "outputs": [
        {
          "output_type": "execute_result",
          "data": {
            "text/plain": [
              "-1.0651074037450896"
            ]
          },
          "metadata": {},
          "execution_count": 14
        }
      ],
      "source": [
        "S = (samples.mean() - M) / (samples.std(ddof=1) / np.sqrt(samples.shape[0]))\n",
        "S   #статистика для оценки мат. ожидания нормального распределения"
      ]
    },
    {
      "cell_type": "code",
      "execution_count": 15,
      "metadata": {
        "colab": {
          "base_uri": "https://localhost:8080/"
        },
        "id": "godezBC8VUyx",
        "outputId": "903729f7-b126-4ba9-bed0-0928df244197"
      },
      "outputs": [
        {
          "output_type": "stream",
          "name": "stdout",
          "text": [
            "alpha\tresult\n",
            "--------------\n",
            "0.0 \t True\n",
            "0.0208 \t True\n",
            "0.0417 \t True\n",
            "0.0625 \t True\n",
            "0.0833 \t True\n",
            "0.1042 \t True\n",
            "0.125 \t True\n",
            "0.1458 \t True\n",
            "0.1667 \t True\n",
            "0.1875 \t True\n",
            "0.2083 \t True\n",
            "0.2292 \t True\n",
            "0.25 \t True\n",
            "0.2708 \t True\n",
            "0.2917 \t True\n",
            "0.3125 \t True\n",
            "0.3333 \t False\n",
            "0.3542 \t False\n",
            "0.375 \t False\n",
            "0.3958 \t False\n",
            "0.4167 \t False\n",
            "0.4375 \t False\n",
            "0.4583 \t False\n",
            "0.4792 \t False\n",
            "0.5 \t False\n"
          ]
        }
      ],
      "source": [
        "print('alpha\\tresult')\n",
        "print('--------------')\n",
        "\n",
        "for alpha in np.linspace(0, 0.50, 25):\n",
        "    t1 = stats.t.ppf(alpha/2, df = n - 1)\n",
        "    t2 = stats.t.ppf(1 - alpha/2, df = n - 1)\n",
        "    print(round(alpha, 4), '\\t', t1 <= S <= t2)"
      ]
    },
    {
      "cell_type": "code",
      "execution_count": 16,
      "metadata": {
        "colab": {
          "base_uri": "https://localhost:8080/"
        },
        "id": "9aUiLF12VUyx",
        "outputId": "3fabbb02-454b-4ac4-f8ac-a788dabbea2d"
      },
      "outputs": [
        {
          "output_type": "execute_result",
          "data": {
            "text/plain": [
              "Ttest_1sampResult(statistic=-1.0651074037450896, pvalue=0.31456660352472854)"
            ]
          },
          "metadata": {},
          "execution_count": 16
        }
      ],
      "source": [
        "stats.ttest_1samp(samples, popmean=200)"
      ]
    },
    {
      "cell_type": "code",
      "execution_count": 17,
      "metadata": {
        "colab": {
          "base_uri": "https://localhost:8080/",
          "height": 35
        },
        "id": "MB2J0NWGVUyy",
        "outputId": "6b1625bc-f802-4800-a77f-97bcfb3fe5ba"
      },
      "outputs": [
        {
          "output_type": "execute_result",
          "data": {
            "application/vnd.google.colaboratory.intrinsic+json": {
              "type": "string"
            },
            "text/plain": [
              "'Ответ: pvalue = 0.3145666'"
            ]
          },
          "metadata": {},
          "execution_count": 17
        }
      ],
      "source": [
        "f'Ответ: pvalue = {round(0.31456660352472854, 8)}'"
      ]
    },
    {
      "cell_type": "markdown",
      "metadata": {
        "id": "oPi2DxEKVUyy"
      },
      "source": [
        "**Задача 3**\n",
        "\n",
        "Дана выборка диаметров подшипников из примера 1 с занятия 5:\n",
        "\n",
        "samples = [0.6603, 0.9466, 0.5968, 1.3792, 1.5481, 0.7515, 1.0681, 1.1134,\n",
        "           1.2088, 1.701 , 1.0282, 1.3579, 1.0191, 1.1784, 1.1168, 1.1372,\n",
        "           0.7273, 1.3958, 0.8665, 1.5112, 1.161 , 1.0232, 1.0865, 1.02  ]\n",
        "\n",
        "Предполагая, что диаметры подшипников распределены нормально, проверьте гипотезу о том, что дисперсия случайной величины равна 0.0625 при уровне значимости alpha = 0.05. Что для этого нужно знать:\n",
        "\n",
        "1. Альтернативная гипотеза двухсторонняя.\n",
        "2. Статистика для теста: H = (n - 1) * sample_variance / variance, где n - число элементов в выборке, sample_variance - несмещённая оценка дисперсии, variance - утверждаемая нулевой гипотезой дисперсия.\n",
        "3. Эта статистика в предположении верности нулевой гипотезы имеет распределение хи-квадрат с параметром df = n - 1. Её квантили можно найти с помощью функции scipy.stats.chi2.ppf.\n",
        "\n",
        "В качестве ответа запишите 1, если нулевая гипотеза верна, и 0 иначе."
      ]
    },
    {
      "cell_type": "code",
      "execution_count": 18,
      "metadata": {
        "id": "u6vT6HSyVUyz"
      },
      "outputs": [],
      "source": [
        "samples = np.array([0.6603, 0.9466, 0.5968, 1.3792, 1.5481, 0.7515, 1.0681, 1.1134,\n",
        "           1.2088, 1.701 , 1.0282, 1.3579, 1.0191, 1.1784, 1.1168, 1.1372,\n",
        "           0.7273, 1.3958, 0.8665, 1.5112, 1.161 , 1.0232, 1.0865, 1.02 ])"
      ]
    },
    {
      "cell_type": "code",
      "execution_count": 19,
      "metadata": {
        "id": "l4aAWxn3VUy0"
      },
      "outputs": [],
      "source": [
        "alpha = 0.05"
      ]
    },
    {
      "cell_type": "code",
      "execution_count": 20,
      "metadata": {
        "colab": {
          "base_uri": "https://localhost:8080/"
        },
        "id": "sDhHArReVUy0",
        "outputId": "7bb3bc80-54ac-4977-f76a-9d4f3fa0bd00"
      },
      "outputs": [
        {
          "output_type": "execute_result",
          "data": {
            "text/plain": [
              "24"
            ]
          },
          "metadata": {},
          "execution_count": 20
        }
      ],
      "source": [
        "n = len(samples)\n",
        "n   #число элементов в выборке"
      ]
    },
    {
      "cell_type": "code",
      "execution_count": 21,
      "metadata": {
        "id": "TfjSPMQkVUy1"
      },
      "outputs": [],
      "source": [
        "variance = 0.0625   #утверждаемая нулевой гипотезой дисперсия"
      ]
    },
    {
      "cell_type": "code",
      "execution_count": 22,
      "metadata": {
        "colab": {
          "base_uri": "https://localhost:8080/"
        },
        "id": "zGaRlF9AVUy1",
        "outputId": "886a1c79-7001-4107-bbd4-38158e14141e"
      },
      "outputs": [
        {
          "output_type": "execute_result",
          "data": {
            "text/plain": [
              "0.07804495041666669"
            ]
          },
          "metadata": {},
          "execution_count": 22
        }
      ],
      "source": [
        "sample_variance = samples.var(ddof=1)\n",
        "sample_variance   #несмещённая оценка дисперсии"
      ]
    },
    {
      "cell_type": "code",
      "execution_count": 23,
      "metadata": {
        "colab": {
          "base_uri": "https://localhost:8080/"
        },
        "id": "dhx2VHp8VUy2",
        "outputId": "0b0517f8-bb3d-4260-8daa-76059c850a91"
      },
      "outputs": [
        {
          "output_type": "execute_result",
          "data": {
            "text/plain": [
              "28.720541753333343"
            ]
          },
          "metadata": {},
          "execution_count": 23
        }
      ],
      "source": [
        "H = (n - 1) * sample_variance / variance\n",
        "H   #Статистика для оценки дисперсии"
      ]
    },
    {
      "cell_type": "code",
      "execution_count": 24,
      "metadata": {
        "colab": {
          "base_uri": "https://localhost:8080/"
        },
        "id": "mYvyJNr5VUy3",
        "outputId": "af7054d7-7e02-40d4-89da-3ec855b82fec"
      },
      "outputs": [
        {
          "output_type": "execute_result",
          "data": {
            "text/plain": [
              "(11.68855192, 38.07562725)"
            ]
          },
          "metadata": {},
          "execution_count": 24
        }
      ],
      "source": [
        "t1 = stats.chi2.ppf(alpha/2, df = n - 1)\n",
        "t2 = stats.chi2.ppf(1 - alpha/2, df = n - 1)\n",
        "round(t1, 8), round(t2, 8)"
      ]
    },
    {
      "cell_type": "code",
      "execution_count": 25,
      "metadata": {
        "colab": {
          "base_uri": "https://localhost:8080/"
        },
        "id": "A6B_81aoVUy3",
        "outputId": "01b34cd3-1f41-4ed6-ed57-7d01d7433f81"
      },
      "outputs": [
        {
          "output_type": "execute_result",
          "data": {
            "text/plain": [
              "True"
            ]
          },
          "metadata": {},
          "execution_count": 25
        }
      ],
      "source": [
        "t1 < H < t2"
      ]
    },
    {
      "cell_type": "markdown",
      "metadata": {
        "id": "WfyLHUQLVUy3"
      },
      "source": [
        "Статистика не входит в критическую область, значит нулевая гипотеза верна.\n",
        "\n",
        "\n",
        "Ответ: 1"
      ]
    },
    {
      "cell_type": "code",
      "execution_count": null,
      "metadata": {
        "id": "iNjcuSqiVUy4"
      },
      "outputs": [],
      "source": [
        ""
      ]
    }
  ],
  "metadata": {
    "kernelspec": {
      "display_name": "Python 3",
      "language": "python",
      "name": "python3"
    },
    "language_info": {
      "codemirror_mode": {
        "name": "ipython",
        "version": 3
      },
      "file_extension": ".py",
      "mimetype": "text/x-python",
      "name": "python",
      "nbconvert_exporter": "python",
      "pygments_lexer": "ipython3",
      "version": "3.8.5"
    },
    "colab": {
      "name": "lesson5.ipynb",
      "provenance": [],
      "collapsed_sections": []
    }
  },
  "nbformat": 4,
  "nbformat_minor": 0
}