{
 "cells": [
  {
   "cell_type": "markdown",
   "id": "43569a26",
   "metadata": {},
   "source": [
    "Задача 1 Имеется колода в 52 карты. Найти число возможностей вытянуть из неё 4 карты так, чтобы среди них был хотя бы один туз."
   ]
  },
  {
   "cell_type": "code",
   "execution_count": 1,
   "id": "32e70804",
   "metadata": {},
   "outputs": [],
   "source": [
    "import numpy as np"
   ]
  },
  {
   "cell_type": "code",
   "execution_count": 2,
   "id": "827682ef",
   "metadata": {},
   "outputs": [],
   "source": [
    "def combinations(n: int, k: int) -> int:\n",
    "    return np.math.factorial(n) // (np.math.factorial(k) * np.math.factorial(n - k))"
   ]
  },
  {
   "cell_type": "code",
   "execution_count": 3,
   "id": "c8bd567e",
   "metadata": {},
   "outputs": [
    {
     "name": "stdout",
     "output_type": "stream",
     "text": [
      "76145 возможностей\n"
     ]
    }
   ],
   "source": [
    "n = sum(combinations(4, i) * combinations(48, 4 - i) for i in range(1, 5))\n",
    "print (n, \"возможностей\")"
   ]
  },
  {
   "cell_type": "markdown",
   "id": "b5f48f7a",
   "metadata": {},
   "source": [
    "Задачи 2 и 3 Из 60 вопросов, входящих в экзаменационные билеты, студент знает 50. Случайным образом студент вытягивает 3 вопроса.\n",
    "\n",
    "Какова вероятность, что все выбранные вопросы знакомы студенту?\n",
    "Какова вероятность что два из трёх вопросов знакомы студенту?"
   ]
  },
  {
   "cell_type": "code",
   "execution_count": 5,
   "id": "3cb62ccd",
   "metadata": {},
   "outputs": [
    {
     "name": "stdout",
     "output_type": "stream",
     "text": [
      "вероятность что все билеты знакомые: 0.5727644652250146\n"
     ]
    }
   ],
   "source": [
    "P1 = combinations(50, 3) / combinations(60, 3)\n",
    "print ('вероятность что все билеты знакомые:', P1)"
   ]
  },
  {
   "cell_type": "code",
   "execution_count": 6,
   "id": "f899e0a1",
   "metadata": {},
   "outputs": [
    {
     "name": "stdout",
     "output_type": "stream",
     "text": [
      "вероятность что два из трёх знакомы: 0.35797779076563413\n"
     ]
    }
   ],
   "source": [
    "P2 = combinations(50, 2) * combinations(10, 1) / combinations(60, 3)\n",
    "print ('вероятность что два из трёх знакомы:', P2)"
   ]
  },
  {
   "cell_type": "markdown",
   "id": "a23f91c5",
   "metadata": {},
   "source": [
    "Задача 4 Допустим, имеется некоторая очень редкая болезнь (поражает 0.1% населения). Вы приходите к врачу, вам делают тест на эту болезнь, и тест оказывается положительным. Врач говорит вам, что этот тест верно выявляет 99% больных этой болезнью и всего лишь в 1% случаев даёт ложный положительный ответ. Вопрос: какова вероятность, что вы действительно больны ей?"
   ]
  },
  {
   "cell_type": "code",
   "execution_count": 8,
   "id": "76a5df65",
   "metadata": {},
   "outputs": [
    {
     "name": "stdout",
     "output_type": "stream",
     "text": [
      "вероятность болезни: 9.016 %\n"
     ]
    }
   ],
   "source": [
    "Pb = 0.001 * 0.99 + 0.999 * 0.01\n",
    "P = 0.001 * 0.99 / Pb\n",
    "print ('вероятность болезни:', round(P*100,3), '%')"
   ]
  },
  {
   "cell_type": "code",
   "execution_count": null,
   "id": "07356a24",
   "metadata": {},
   "outputs": [],
   "source": []
  }
 ],
 "metadata": {
  "kernelspec": {
   "display_name": "Python 3",
   "language": "python",
   "name": "python3"
  },
  "language_info": {
   "codemirror_mode": {
    "name": "ipython",
    "version": 3
   },
   "file_extension": ".py",
   "mimetype": "text/x-python",
   "name": "python",
   "nbconvert_exporter": "python",
   "pygments_lexer": "ipython3",
   "version": "3.7.1rc1"
  }
 },
 "nbformat": 4,
 "nbformat_minor": 5
}
